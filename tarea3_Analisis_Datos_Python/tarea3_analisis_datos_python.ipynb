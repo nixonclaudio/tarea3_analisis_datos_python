{
 "cells": [
  {
   "cell_type": "markdown",
   "id": "2c8a4a63-fead-42e2-b513-7a55534ed08d",
   "metadata": {},
   "source": [
    "### Universidad Galileo \n",
    "### Postgrado en Análisis y predicción de Datos\n",
    "### Ciencia de Datos en Python\n",
    "### Nixon Armando López Claudio \n",
    "### Hoja de Trabajo #3 - Análisis de Datos con Python"
   ]
  },
  {
   "cell_type": "markdown",
   "id": "066a6aad-e884-4a9e-9986-f2538c22c161",
   "metadata": {},
   "source": [
    "<h1><center> Análisis de Datos con Python </center></h1>"
   ]
  },
  {
   "cell_type": "code",
   "execution_count": 1,
   "id": "6529ee35-22ac-4e46-bf49-913203678bfa",
   "metadata": {},
   "outputs": [],
   "source": [
    "import numpy as np\n",
    "import pandas as pd\n",
    "import sys\n",
    "import matplotlib.pyplot as plt"
   ]
  },
  {
   "cell_type": "markdown",
   "id": "b99ec1ba-26a6-497c-ae64-2f0b1cb3041f",
   "metadata": {},
   "source": [
    "<h1><center> Parte 1: Numpy </center></h1>"
   ]
  },
  {
   "cell_type": "markdown",
   "id": "79898ca8-0d3b-490b-96fa-40f720fe9c12",
   "metadata": {},
   "source": [
    "#### Para los ejercicios siguiente genere el código que considere para resolver el problema que se le plantea."
   ]
  },
  {
   "cell_type": "markdown",
   "id": "37c83d53-5768-4936-9bd0-a3218f7b69c5",
   "metadata": {},
   "source": [
    "1) ¿Cuál es el tamaño en bytes de un array de 1000 elementos de tipo booleano?"
   ]
  },
  {
   "cell_type": "code",
   "execution_count": 2,
   "id": "ad202160-4322-4526-a627-33a4372918fb",
   "metadata": {},
   "outputs": [
    {
     "name": "stdout",
     "output_type": "stream",
     "text": [
      "El tamaño en bytes de un array de 1000 elementos es de : 1000\n"
     ]
    }
   ],
   "source": [
    "arreglo = np.full(1000, False, dtype=bool)\n",
    "\n",
    "size = arreglo.nbytes\n",
    "\n",
    "print(f'El tamaño en bytes de un array de 1000 elementos es de : {size}')"
   ]
  },
  {
   "cell_type": "markdown",
   "id": "74576bc2-728d-4b9f-937a-5d97952c4e7a",
   "metadata": {},
   "source": [
    "2) Cree un array cuyos elementos sean los enteros pares en [1,100] y en orden decreciente. Muestre los 10 últimos por pantalla."
   ]
  },
  {
   "cell_type": "code",
   "execution_count": 3,
   "id": "76eb6427-a5a0-41cf-a01b-b39a3b800730",
   "metadata": {},
   "outputs": [
    {
     "name": "stdout",
     "output_type": "stream",
     "text": [
      "Los últimos 10 elementos enteros pares del arreglo son [20 18 16 14 12 10  8  6  4  2]\n"
     ]
    }
   ],
   "source": [
    "enteros = np.arange(100, 0, -2)\n",
    "print(f'Los últimos 10 elementos enteros pares del arreglo son {enteros[-10:]}')"
   ]
  },
  {
   "cell_type": "markdown",
   "id": "df16d9d6-eba6-40bb-a6c4-3d8ccfcb8d7a",
   "metadata": {},
   "source": [
    "3) Dado el array\n",
    "\n",
    "2 4 5 6\n",
    "\n",
    "0 3 7 4\n",
    "\n",
    "8 8 5 2\n",
    "\n",
    "1 5 6 1"
   ]
  },
  {
   "cell_type": "code",
   "execution_count": 4,
   "id": "7e5bd3a3-a14a-422a-8f2f-6079d091059c",
   "metadata": {},
   "outputs": [
    {
     "data": {
      "text/plain": [
       "array([[2, 4, 5, 6],\n",
       "       [0, 3, 7, 4],\n",
       "       [8, 8, 5, 2],\n",
       "       [1, 5, 6, 1]])"
      ]
     },
     "execution_count": 4,
     "metadata": {},
     "output_type": "execute_result"
    }
   ],
   "source": [
    "array = np.array([[2, 4, 5, 6],[0, 3, 7, 4],[8, 8, 5, 2],[1, 5, 6, 1]])\n",
    "array"
   ]
  },
  {
   "cell_type": "markdown",
   "id": "4850ae6d-0a21-4cbb-928b-677372cea128",
   "metadata": {},
   "source": [
    "Seleccione con una instrucción el subarray de elementos\n",
    "0 3 7 4"
   ]
  },
  {
   "cell_type": "code",
   "execution_count": 5,
   "id": "d42ed0d4-794a-4c9e-9618-b09ea1801159",
   "metadata": {},
   "outputs": [
    {
     "name": "stdout",
     "output_type": "stream",
     "text": [
      "El sub arreglo dado el array es: [0 3 7 4]\n"
     ]
    }
   ],
   "source": [
    "subarray = array[1, :]\n",
    "print(f'El sub arreglo dado el array es: {subarray}')"
   ]
  },
  {
   "cell_type": "markdown",
   "id": "f5980013-2dbd-4994-8723-af138416f537",
   "metadata": {},
   "source": [
    "Después, seleccione el subarray de elementos \n",
    "\n",
    "2 5\n",
    "\n",
    "8 5"
   ]
  },
  {
   "cell_type": "code",
   "execution_count": 6,
   "id": "1530bc31-9844-484b-8723-bbae7f4605b5",
   "metadata": {},
   "outputs": [
    {
     "name": "stdout",
     "output_type": "stream",
     "text": [
      "El sub arreglo dado el array 2,5 y 8,5 es: ([2, 5], [8, 5])\n"
     ]
    }
   ],
   "source": [
    "subarray1 = ([array[0][0], array[0][2]]  , [array[2][0], array[2][2]])\n",
    "\n",
    "print(f'El sub arreglo dado el array 2,5 y 8,5 es: {subarray1}')"
   ]
  },
  {
   "cell_type": "markdown",
   "id": "3dfb25a1-ace3-46ff-a808-27bb8694dc77",
   "metadata": {},
   "source": [
    "4) Dados los arrays a = [1, 4, 2, 7] y b = [1, 3, 2, 9], obtenga la media aritmética de la diferencia (a-b)."
   ]
  },
  {
   "cell_type": "code",
   "execution_count": 7,
   "id": "48710b5b-06e0-4626-b29f-c5d985c80348",
   "metadata": {},
   "outputs": [],
   "source": [
    "a = np.array([1, 4, 2, 7])\n",
    "b = np.array([1, 3, 2, 9])\n",
    "\n",
    "media = np.sum(a-b)/len(a)"
   ]
  },
  {
   "cell_type": "code",
   "execution_count": 8,
   "id": "02ae8953-8934-4d33-8fe0-8e4c543360a7",
   "metadata": {},
   "outputs": [
    {
     "name": "stdout",
     "output_type": "stream",
     "text": [
      "La media arimética de la diferencia (a-b) es: -0.25\n"
     ]
    }
   ],
   "source": [
    "print(f'La media arimética de la diferencia (a-b) es: {media}')"
   ]
  },
  {
   "cell_type": "markdown",
   "id": "d1a2d63f-fb6a-49be-84ee-29edf5fbc32e",
   "metadata": {},
   "source": [
    "5) Tengo valores de cordenadas (x, y) en las columnas\n",
    "del array\n",
    "1.33 4.5\n",
    "30.0 10.7\n",
    "70.2 0.5\n",
    "\n",
    "Agregue a este array las coordenadas (37.1, -3.6).\n",
    "Muestre en pantalla las dimensiones del nuevo\n",
    "array.\n",
    "\n",
    "\n"
   ]
  },
  {
   "cell_type": "code",
   "execution_count": 9,
   "id": "1b3162a9-feae-4984-8e78-8adeced2bb28",
   "metadata": {},
   "outputs": [
    {
     "data": {
      "text/plain": [
       "array([[ 1.33,  4.5 ],\n",
       "       [30.  , 10.7 ],\n",
       "       [70.2 ,  0.5 ]])"
      ]
     },
     "execution_count": 9,
     "metadata": {},
     "output_type": "execute_result"
    }
   ],
   "source": [
    "coordenadas = np.array([[1.33,4.5],[30.0,10.7],[70.2,0.5]])\n",
    "coordenadas"
   ]
  },
  {
   "cell_type": "code",
   "execution_count": 10,
   "id": "f4401bf1-2076-4203-8a9f-19789b21fe48",
   "metadata": {},
   "outputs": [
    {
     "data": {
      "text/plain": [
       "array([37.1, -3.6])"
      ]
     },
     "execution_count": 10,
     "metadata": {},
     "output_type": "execute_result"
    }
   ],
   "source": [
    "nuevas_coordenadas = np.array([37.1,-3.6])\n",
    "nuevas_coordenadas\n"
   ]
  },
  {
   "cell_type": "code",
   "execution_count": 11,
   "id": "ee3a4fc9-786f-46c2-8a52-6dc2c5605cb1",
   "metadata": {},
   "outputs": [
    {
     "name": "stdout",
     "output_type": "stream",
     "text": [
      "Las coordenadas actualizadas son: [[ 1.33  4.5 ]\n",
      " [30.   10.7 ]\n",
      " [70.2   0.5 ]\n",
      " [37.1  -3.6 ]]\n"
     ]
    }
   ],
   "source": [
    "coordenadas = np.append(coordenadas, [nuevas_coordenadas], axis = 0)\n",
    "\n",
    "print(\"Las coordenadas actualizadas son: {coo}\".format(coo=coordenadas))"
   ]
  },
  {
   "cell_type": "markdown",
   "id": "cc4cb7d0-cb35-4312-900f-b506d839f28c",
   "metadata": {},
   "source": [
    "6. Copie el array del ejercicio anterior. Traspóngalo (.\n",
    "Agregue ahora dos nuevos pares de coordenadas: (10.8,\n",
    "3.0) y (35.8, 12.0)."
   ]
  },
  {
   "cell_type": "code",
   "execution_count": 12,
   "id": "c56d0759-7690-4c1a-89bb-55eca0339ff3",
   "metadata": {},
   "outputs": [
    {
     "data": {
      "text/plain": [
       "array([[ 1.33, 30.  , 70.2 , 37.1 ],\n",
       "       [ 4.5 , 10.7 ,  0.5 , -3.6 ]])"
      ]
     },
     "execution_count": 12,
     "metadata": {},
     "output_type": "execute_result"
    }
   ],
   "source": [
    "trans = np.transpose(coordenadas)\n",
    "trans"
   ]
  },
  {
   "cell_type": "code",
   "execution_count": 13,
   "id": "568c067c-3dc5-4b68-9d67-5e26c374f41f",
   "metadata": {},
   "outputs": [
    {
     "data": {
      "text/plain": [
       "array([[10.8,  3. ],\n",
       "       [35.8, 12. ]])"
      ]
     },
     "execution_count": 13,
     "metadata": {},
     "output_type": "execute_result"
    }
   ],
   "source": [
    "narr = np.array([[10.8,3.0],[35.8,12.0]])\n",
    "narr"
   ]
  },
  {
   "cell_type": "code",
   "execution_count": 14,
   "id": "44b81089-5951-4921-8c7a-02d3845f98da",
   "metadata": {},
   "outputs": [
    {
     "name": "stdout",
     "output_type": "stream",
     "text": [
      "[[ 1.33 30.   70.2  37.1  10.8  35.8 ]\n",
      " [ 4.5  10.7   0.5  -3.6   3.   12.  ]]\n"
     ]
    }
   ],
   "source": [
    "actualiza_coordenadas = np.append(trans,np.atleast_2d(narr).T, axis=1 )\n",
    "print(actualiza_coordenadas)"
   ]
  },
  {
   "cell_type": "code",
   "execution_count": null,
   "id": "69ce3cea-da33-4364-9ba6-10c5277b6546",
   "metadata": {},
   "outputs": [],
   "source": []
  },
  {
   "cell_type": "markdown",
   "id": "082b2a38-b065-46f7-a242-91d87f909065",
   "metadata": {},
   "source": [
    "<h1><center> Parte 1: Exploración y Minería de Datos </center></h1>"
   ]
  },
  {
   "cell_type": "markdown",
   "id": "9bce9525-75a1-40a5-ac05-36a4625ea8c7",
   "metadata": {},
   "source": [
    "Con el dataset nucleospoblacion.csv adjunto al laboratorio,\n",
    "luego responda las siguientes preguntas usando pandas y\n",
    "matplotlib."
   ]
  },
  {
   "cell_type": "code",
   "execution_count": 15,
   "id": "52ff814f-d8b0-487e-802a-6180437599b3",
   "metadata": {},
   "outputs": [],
   "source": [
    "import os"
   ]
  },
  {
   "cell_type": "code",
   "execution_count": 17,
   "id": "1b916f1e-ea75-4506-a274-ee24fd4044f4",
   "metadata": {},
   "outputs": [
    {
     "data": {
      "text/plain": [
       "'d:\\\\Archivos Nixon\\\\BAKUP NIXON\\\\Maestría en Data Science\\\\1 Trimestre primero DS\\\\Ciencia de Datos en Python\\\\Tareas_CDP\\\\Tarea3.cdp\\\\tarea3_Analisis_Datos_Python'"
      ]
     },
     "execution_count": 17,
     "metadata": {},
     "output_type": "execute_result"
    }
   ],
   "source": [
    "os.getcwd()"
   ]
  },
  {
   "cell_type": "code",
   "execution_count": null,
   "id": "858f0bd2-b049-492b-a728-3db90b8bba5f",
   "metadata": {},
   "outputs": [],
   "source": []
  },
  {
   "cell_type": "markdown",
   "id": "60987596-e16d-4a39-afb9-021aa2058160",
   "metadata": {},
   "source": [
    "1) ¿Cuántos Municipios tienen más de 100000 habitantes?."
   ]
  },
  {
   "cell_type": "markdown",
   "id": "e5963380-bb5b-44b0-a145-65c17f9baa15",
   "metadata": {},
   "source": [
    "2) Realice una gráfica de barras sobre la polbación de cada ciudad, ordenela de menor a mayo y responda:\n",
    "* ¿Cuál es la segunda ciudad más poblada?\n",
    "* ¿Qué posición ocupa Granada en el ranking de las ciudades más pobladas?"
   ]
  },
  {
   "cell_type": "markdown",
   "id": "700f06f2-901c-4d04-8d2a-92a97742b27c",
   "metadata": {},
   "source": [
    "3) ¿Cuántos municipios de Extremadura tienen más de 5000 habitantes?."
   ]
  },
  {
   "cell_type": "markdown",
   "id": "5ac6f0de-0574-4f4f-af33-c4af38c15191",
   "metadata": {},
   "source": [
    "4) ¿Cuál es el municipio situado más al Norte? (Usar el valor de la coordenada \"Y\" que representa la latitud en grados). Proporcione también la provincia a la que pertenece y su población."
   ]
  },
  {
   "cell_type": "markdown",
   "id": "63907462-30e1-41a4-b04c-f7d7ec524b41",
   "metadata": {},
   "source": [
    "5) Obtenga la media, mediana, desviación estándar, valor máximo y valor mínimo de la población de los municipios de la provincia de Granada."
   ]
  },
  {
   "cell_type": "markdown",
   "id": "5ab44f80-ff74-4def-8163-2ed5b752e5d4",
   "metadata": {},
   "source": [
    "6) Realice un histograma con la población de los Municipios para cada una de las provincias."
   ]
  },
  {
   "cell_type": "markdown",
   "id": "8e84dba4-eb96-4d46-bfe2-e1b140fa4e6e",
   "metadata": {},
   "source": [
    "7) Seleccione al azar cincuenta municipios diferentes de entre los diponibles en el archivo. Asegúrese de que no se repitan. ¿Luego calcule el promedio de la población y la desviación estándar de esto 50 municipios?."
   ]
  },
  {
   "cell_type": "markdown",
   "id": "34fa48de-6754-4020-b794-266e5feb911d",
   "metadata": {},
   "source": [
    "8) Dígame los nombres de los Municipios más cercano y más lejano a Madrid. Para ello debe calcular la distancia en todos ellos y Madrid. No considere a Madrid en el análisis ya que la distancia sería cero."
   ]
  }
 ],
 "metadata": {
  "kernelspec": {
   "display_name": "Python 3 (ipykernel)",
   "language": "python",
   "name": "python3"
  },
  "language_info": {
   "codemirror_mode": {
    "name": "ipython",
    "version": 3
   },
   "file_extension": ".py",
   "mimetype": "text/x-python",
   "name": "python",
   "nbconvert_exporter": "python",
   "pygments_lexer": "ipython3",
   "version": "3.9.13"
  }
 },
 "nbformat": 4,
 "nbformat_minor": 5
}
